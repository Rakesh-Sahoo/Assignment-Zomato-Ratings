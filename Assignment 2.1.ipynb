{
 "cells": [
  {
   "cell_type": "code",
   "execution_count": 1,
   "metadata": {},
   "outputs": [],
   "source": [
    "import os\n",
    "import pandas as pd"
   ]
  },
  {
   "cell_type": "code",
   "execution_count": 2,
   "metadata": {},
   "outputs": [
    {
     "name": "stdout",
     "output_type": "stream",
     "text": [
      "            Full_Name              Email_         Ph.No\n",
      "0          James Butt                 NaN  504-621-8927\n",
      "1   Josephine Darakjy                 NaN           NaN\n",
      "2          Art Venere                 NaN           NaN\n",
      "3      Lenna Paprocki                 NaN           NaN\n",
      "4      Donette Foller                 NaN           NaN\n",
      "5      Simona Morasca                 NaN           NaN\n",
      "6      Mitsue Tollner                 NaN           NaN\n",
      "7      Leota Dilliard                 NaN           NaN\n",
      "8         Sage Wieser                 NaN           NaN\n",
      "9        Kris Marrier                 NaN           NaN\n",
      "10       Minna Amigon                 NaN           NaN\n",
      "11       Abel Maclead                 NaN           NaN\n",
      "12    Kiley Caldarera                 NaN           NaN\n",
      "13      Graciela Ruta                 NaN           NaN\n",
      "14      Cammy Albares                 NaN           NaN\n",
      "15    Mattie Poquette                 NaN           NaN\n",
      "16     Meaghan Garufi                 NaN           NaN\n",
      "17         Gladys Rim                 NaN           NaN\n",
      "18       Yuki Whobrey                 NaN           NaN\n",
      "19     Fletcher Flosi    asergi@yahoo.com           NaN\n",
      "20        Bette Nicka                 NaN           NaN\n",
      "21    Veronika Inouye                 NaN           NaN\n",
      "22    Willard Kolmetz                 NaN           NaN\n",
      "23    Maryann Royster  calbares@gmail.com           NaN\n",
      "24   Alisha Slusarski                 NaN           NaN\n"
     ]
    }
   ],
   "source": [
    "#Reading the data from csv file using pandas.\n",
    "df=pd.read_csv(\"sample_email.csv\",encoding= 'unicode_escape')\n",
    "\n",
    "#Creating a New Column named Full_Name by adding two columns from the dataframe.\n",
    "df['Full_Name'] = df.apply(lambda row: row.first_name+\" \" +row.last_name,axis = 1)\n",
    "#Creating a new column called Email_ by extracting the phone number fromat from the column called Email Boby.\n",
    "df[\"Email_\"] = df[\"Email Boby\"].str.extract(\"(\\S+@\\S+)\", expand=True)\n",
    "#Creating a new column called Ph.No by extracting the phone number fromat from the column called Email Boby.\n",
    "df[\"Ph.No\"] = df[\"Email Boby\"].str.extract(\"(\\d\\d\\d-\\d\\d\\d-\\d\\d\\d\\d)\", expand=True)\n",
    "#Creating a New Dataframe \"df1\" by extracting data from the old datframe.\n",
    "#Saving the data to a csv file named:-modified_email.csv\n",
    "df1 = pd.DataFrame(df,columns =['Full_Name','Email_', 'Ph.No'])\n",
    "modified_csv = df1.to_csv (r'C:\\\\Users\\\\Prabin\\\\Desktop\\\\Assignment\\\\modified_email.csv', index = None, header=True)\n",
    "print(df1.head(25))"
   ]
  },
  {
   "cell_type": "code",
   "execution_count": 3,
   "metadata": {},
   "outputs": [
    {
     "name": "stdout",
     "output_type": "stream",
     "text": [
      "Enter Your Name: Rakesh\n",
      "Email to:jbutt@luminate.ai\n",
      "Subject Line:When EMVX creation comes the message \"The creation was canceled for hardware reasons\".\n",
      "Hii James Butt,\n",
      "I have a nearly unreadable font in my Warehouse Software under Export-File Options for 2 days.Please do contact me at 504-621-8927\n",
      "Thanks,\n",
      "Rakesh.\n",
      "Enter Your Name: Exit\n"
     ]
    }
   ],
   "source": [
    "#Above I used pandas module to read and write to a csv file.Here I am useing csv module to open and read the csv files.\n",
    "#Changing the email format.\n",
    "\n",
    "import csv\n",
    "with open('sample_email.csv', 'r') as csv_file:\n",
    "    #Creating a reader object to read from  the csv file.\n",
    "    csv_reader = csv.DictReader(csv_file)\n",
    "    for col in csv_reader:\n",
    "        name = col[\"first_name\"]+\" \"+col[\"last_name\"]\n",
    "        email = col[\"email\"]\n",
    "        subject = col[\"subject\"]\n",
    "        email_body = col[\"Email Boby\"]\n",
    "        user_name = input(\"Enter Your Name: \")\n",
    "        if (user_name==\"Exit\"):break\n",
    "        txt1=\"Email to:{0}\\nSubject Line:{1}\\nHii {2},\\n{3}\\nThanks,\\n{4}.\".format(email,subject,name,email_body,user_name)\n",
    "        print(txt1)"
   ]
  },
  {
   "cell_type": "code",
   "execution_count": null,
   "metadata": {},
   "outputs": [],
   "source": []
  }
 ],
 "metadata": {
  "kernelspec": {
   "display_name": "Python 3",
   "language": "python",
   "name": "python3"
  },
  "language_info": {
   "codemirror_mode": {
    "name": "ipython",
    "version": 3
   },
   "file_extension": ".py",
   "mimetype": "text/x-python",
   "name": "python",
   "nbconvert_exporter": "python",
   "pygments_lexer": "ipython3",
   "version": "3.7.3"
  }
 },
 "nbformat": 4,
 "nbformat_minor": 2
}
